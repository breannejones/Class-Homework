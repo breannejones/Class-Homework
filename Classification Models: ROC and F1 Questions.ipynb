{
 "cells": [
  {
   "cell_type": "markdown",
   "metadata": {
    "id": "8Q9tsXaYEb6T"
   },
   "source": [
    "# Classification model evaluation: F1 and ROC\n",
    "### Use 'Book club.csv'"
   ]
  },
  {
   "cell_type": "code",
   "execution_count": 1,
   "metadata": {
    "id": "QmFrq4EmEb6W",
    "tags": []
   },
   "outputs": [],
   "source": [
    "import pandas as pd\n",
    "import numpy as np\n",
    "from sklearn.model_selection import train_test_split\n",
    "from sklearn.linear_model import LogisticRegression\n",
    "from sklearn.metrics import roc_curve, auc\n",
    "from sklearn import metrics\n",
    "import matplotlib.pyplot as plt\n",
    "import seaborn as sns"
   ]
  },
  {
   "cell_type": "markdown",
   "metadata": {
    "id": "dWcGImMeEb6X"
   },
   "source": [
    "### 1. Divide the data into 75% training and 25% test data (use random_state=100) and run the following logit model on training data. Report the coefficients.\n",
    "- **(M1) Buy = β0 + β1 Male + β2 Buyamt + β3 Freq + β4 Lastbuy + β5 Firstbuy + β6 Child + β7 Youth + β8 Cook + β9 DIY + β10 Art + e**"
   ]
  },
  {
   "cell_type": "code",
   "execution_count": 2,
   "metadata": {
    "id": "cg1K9lzuEb6Y",
    "outputId": "0c80d653-8a8a-4263-96a9-88c4fb8d58bd",
    "tags": []
   },
   "outputs": [
    {
     "data": {
      "text/html": [
       "<div>\n",
       "<style scoped>\n",
       "    .dataframe tbody tr th:only-of-type {\n",
       "        vertical-align: middle;\n",
       "    }\n",
       "\n",
       "    .dataframe tbody tr th {\n",
       "        vertical-align: top;\n",
       "    }\n",
       "\n",
       "    .dataframe thead th {\n",
       "        text-align: right;\n",
       "    }\n",
       "</style>\n",
       "<table border=\"1\" class=\"dataframe\">\n",
       "  <thead>\n",
       "    <tr style=\"text-align: right;\">\n",
       "      <th></th>\n",
       "      <th>id</th>\n",
       "      <th>buy</th>\n",
       "      <th>male</th>\n",
       "      <th>buyamt</th>\n",
       "      <th>freq</th>\n",
       "      <th>lastbuy</th>\n",
       "      <th>firstbuy</th>\n",
       "      <th>child</th>\n",
       "      <th>youth</th>\n",
       "      <th>cook</th>\n",
       "      <th>diy</th>\n",
       "      <th>art</th>\n",
       "    </tr>\n",
       "  </thead>\n",
       "  <tbody>\n",
       "    <tr>\n",
       "      <th>0</th>\n",
       "      <td>1</td>\n",
       "      <td>0</td>\n",
       "      <td>1</td>\n",
       "      <td>123</td>\n",
       "      <td>12</td>\n",
       "      <td>1</td>\n",
       "      <td>12</td>\n",
       "      <td>0</td>\n",
       "      <td>1</td>\n",
       "      <td>0</td>\n",
       "      <td>0</td>\n",
       "      <td>0</td>\n",
       "    </tr>\n",
       "    <tr>\n",
       "      <th>1</th>\n",
       "      <td>2</td>\n",
       "      <td>0</td>\n",
       "      <td>1</td>\n",
       "      <td>294</td>\n",
       "      <td>6</td>\n",
       "      <td>2</td>\n",
       "      <td>8</td>\n",
       "      <td>0</td>\n",
       "      <td>1</td>\n",
       "      <td>1</td>\n",
       "      <td>0</td>\n",
       "      <td>0</td>\n",
       "    </tr>\n",
       "    <tr>\n",
       "      <th>2</th>\n",
       "      <td>3</td>\n",
       "      <td>0</td>\n",
       "      <td>1</td>\n",
       "      <td>138</td>\n",
       "      <td>14</td>\n",
       "      <td>9</td>\n",
       "      <td>38</td>\n",
       "      <td>1</td>\n",
       "      <td>1</td>\n",
       "      <td>3</td>\n",
       "      <td>2</td>\n",
       "      <td>1</td>\n",
       "    </tr>\n",
       "    <tr>\n",
       "      <th>3</th>\n",
       "      <td>4</td>\n",
       "      <td>0</td>\n",
       "      <td>1</td>\n",
       "      <td>228</td>\n",
       "      <td>2</td>\n",
       "      <td>1</td>\n",
       "      <td>2</td>\n",
       "      <td>0</td>\n",
       "      <td>1</td>\n",
       "      <td>0</td>\n",
       "      <td>0</td>\n",
       "      <td>0</td>\n",
       "    </tr>\n",
       "    <tr>\n",
       "      <th>4</th>\n",
       "      <td>5</td>\n",
       "      <td>0</td>\n",
       "      <td>1</td>\n",
       "      <td>102</td>\n",
       "      <td>22</td>\n",
       "      <td>2</td>\n",
       "      <td>24</td>\n",
       "      <td>2</td>\n",
       "      <td>0</td>\n",
       "      <td>0</td>\n",
       "      <td>0</td>\n",
       "      <td>0</td>\n",
       "    </tr>\n",
       "  </tbody>\n",
       "</table>\n",
       "</div>"
      ],
      "text/plain": [
       "   id  buy  male  buyamt  freq  lastbuy  firstbuy  child  youth  cook  diy  \\\n",
       "0   1    0     1     123    12        1        12      0      1     0    0   \n",
       "1   2    0     1     294     6        2         8      0      1     1    0   \n",
       "2   3    0     1     138    14        9        38      1      1     3    2   \n",
       "3   4    0     1     228     2        1         2      0      1     0    0   \n",
       "4   5    0     1     102    22        2        24      2      0     0    0   \n",
       "\n",
       "   art  \n",
       "0    0  \n",
       "1    0  \n",
       "2    1  \n",
       "3    0  \n",
       "4    0  "
      ]
     },
     "execution_count": 2,
     "metadata": {},
     "output_type": "execute_result"
    }
   ],
   "source": [
    "# Read data\n",
    "\n",
    "df = pd.read_csv('Book club.csv')\n",
    "df.head()"
   ]
  },
  {
   "cell_type": "code",
   "execution_count": 11,
   "metadata": {
    "id": "9tZiZAbDEb6Y",
    "outputId": "3cec5824-0c45-4fd3-ccf8-7a78451fbe06",
    "scrolled": true,
    "tags": []
   },
   "outputs": [],
   "source": [
    "# Define y, x\n",
    "\n",
    "y=df.buy\n",
    "x=df.iloc[ : , 2: ]\n",
    "# x=df.iloc[:, 2:]  # alternative"
   ]
  },
  {
   "cell_type": "code",
   "execution_count": 12,
   "metadata": {
    "id": "9tZiZAbDEb6Y",
    "outputId": "3cec5824-0c45-4fd3-ccf8-7a78451fbe06",
    "scrolled": true,
    "tags": []
   },
   "outputs": [
    {
     "data": {
      "text/plain": [
       "array([[-0.89420488,  0.00126018, -0.09609367,  0.41964856, -0.01046302,\n",
       "        -0.60473712, -0.36970005, -0.672284  , -0.73803235,  0.7246408 ]])"
      ]
     },
     "execution_count": 12,
     "metadata": {},
     "output_type": "execute_result"
    }
   ],
   "source": [
    "# Divide x into training and test sets. Run logistic regression and obtain coefficients.\n",
    "\n",
    "xtrain, xtest, ytrain, ytest=train_test_split(x, y, random_state=10)\n",
    "m = LogisticRegression(max_iter=300).fit(xtrain, ytrain)\n",
    "m.coef_"
   ]
  },
  {
   "cell_type": "markdown",
   "metadata": {
    "id": "DPD8B3rtEb6Y"
   },
   "source": [
    "### 2. Report model Accuracy, Precision, Recall, and F1 score on test data. Summarize your observation."
   ]
  },
  {
   "cell_type": "code",
   "execution_count": 13,
   "metadata": {
    "id": "VmLv48BsEb6Z",
    "outputId": "f6f8b531-0dab-46cb-85f0-7efb8cbda0fa",
    "tags": []
   },
   "outputs": [
    {
     "name": "stdout",
     "output_type": "stream",
     "text": [
      "Accuracy 0.9405714285714286\n",
      "Precision 1.0\n",
      "Recall 0.05454545454545454\n",
      "F1 Score 0.10344827586206896\n"
     ]
    }
   ],
   "source": [
    "# Predict y and obtain scores\n",
    "\n",
    "pred = m.predict(xtest)  # predict y on test data\n",
    "print('Accuracy', metrics.accuracy_score(ytest, pred))\n",
    " # m.score(xtest, ytest)  # Alternative\n",
    "print('Precision', metrics.precision_score(ytest, pred))  # TP/P*\n",
    "print('Recall', metrics.recall_score(ytest, pred))     # TP/P\n",
    "print('F1 Score', metrics.f1_score(ytest, pred))"
   ]
  },
  {
   "cell_type": "markdown",
   "metadata": {
    "id": "-WfODwyuEb6Z"
   },
   "source": [
    "### 3. Report confusion matrix"
   ]
  },
  {
   "cell_type": "code",
   "execution_count": 14,
   "metadata": {
    "id": "8VPjCSLuEb6Z",
    "outputId": "50872d13-473c-4951-c41e-9499061370cc",
    "tags": []
   },
   "outputs": [
    {
     "data": {
      "text/plain": [
       "array([[820,   0],\n",
       "       [ 52,   3]])"
      ]
     },
     "execution_count": 14,
     "metadata": {},
     "output_type": "execute_result"
    }
   ],
   "source": [
    "# Obtain confusion matrix\n",
    "\n",
    "metrics.confusion_matrix(ytest, pred)"
   ]
  },
  {
   "cell_type": "markdown",
   "metadata": {
    "id": "hu2ObwK6Eb6Z"
   },
   "source": [
    "|          | Predicted 0   | Predicted 1 |\n",
    "|----------|:-------------:|------------:|\n",
    "| Actual 0 |       TN      |      FP     |\n",
    "| Actual 1 |       FN      |      TP     |"
   ]
  },
  {
   "cell_type": "markdown",
   "metadata": {
    "id": "7loAzPgxEb6a"
   },
   "source": [
    "### 4. Report True negative rate (TNR), False positive rate (FPR), True positive rate (TPR), and False negative rate (FNR)"
   ]
  },
  {
   "cell_type": "code",
   "execution_count": 15,
   "metadata": {
    "id": "ec8-kJi6Eb6a",
    "outputId": "c76b952c-fcc5-4712-fa75-4be9526b5332",
    "tags": []
   },
   "outputs": [
    {
     "name": "stdout",
     "output_type": "stream",
     "text": [
      "TNR 1.0\n",
      "FPR 0.0\n",
      "TPR 0.05454545454545454\n",
      "FNR 0.9454545454545454\n"
     ]
    }
   ],
   "source": [
    "# Report TNR, FPR, TPR, FNR \n",
    "\n",
    "print('TNR', 820/(820+0))  # TN/N: Specificity\n",
    "print('FPR', 0/(820+0))  # FP/N: Type I Error (TNR+FPR=1, FPR=1-Specificity)\n",
    "print('TPR', 3/(52+3))  # TP/P: Power,Sensitivity,Recall\n",
    "print('FNR', 52/(52+3))  # FN/P: Type II Error (TPR+FNR=1)\n",
    " # Adjust numbers based on your results"
   ]
  },
  {
   "cell_type": "markdown",
   "metadata": {
    "id": "GQ8rypFQEb6a"
   },
   "source": [
    "### 5. What percentage of customers bought the book?"
   ]
  },
  {
   "cell_type": "code",
   "execution_count": 16,
   "metadata": {
    "id": "7uhDuJ8qEb6a",
    "outputId": "f3bf6870-adb7-4568-dd79-7d79120764c4",
    "tags": []
   },
   "outputs": [
    {
     "data": {
      "text/plain": [
       "0.05828571428571429"
      ]
     },
     "execution_count": 16,
     "metadata": {},
     "output_type": "execute_result"
    }
   ],
   "source": [
    "# Calculate the average of 'buy'\n",
    "\n",
    "df.buy.mean()"
   ]
  },
  {
   "cell_type": "markdown",
   "metadata": {
    "id": "3Zx3Qo8fEb6b"
   },
   "source": [
    "### 6. Draw ROC curve with AUC on test data."
   ]
  },
  {
   "cell_type": "code",
   "execution_count": 17,
   "metadata": {
    "id": "Az_RkNUvEb6b",
    "outputId": "dba7eaea-57b1-40e0-fbf9-baa01cecda98",
    "tags": []
   },
   "outputs": [
    {
     "data": {
      "text/plain": [
       "array([[0.9973054 , 0.0026946 ],\n",
       "       [0.94643667, 0.05356333],\n",
       "       [0.56692225, 0.43307775],\n",
       "       ...,\n",
       "       [0.86029695, 0.13970305],\n",
       "       [0.98075647, 0.01924353],\n",
       "       [0.84202721, 0.15797279]])"
      ]
     },
     "execution_count": 17,
     "metadata": {},
     "output_type": "execute_result"
    }
   ],
   "source": [
    "#  Predict probablity of each sample in the test data\n",
    "\n",
    "prob = m.predict_proba(xtest)\n",
    "prob  # column 1,2: probability of negative and positive class"
   ]
  },
  {
   "cell_type": "code",
   "execution_count": 18,
   "metadata": {
    "id": "pl-icG1ZEb6b",
    "outputId": "04dbb62d-9f03-42cd-f4ae-6513ed7ac7a6",
    "tags": []
   },
   "outputs": [
    {
     "name": "stdout",
     "output_type": "stream",
     "text": [
      "Out-of-sample AUC: 0.8200\n"
     ]
    }
   ],
   "source": [
    "# Obtain predictions for positive class, fpr, tpr, decisin threshold, AUC\n",
    "\n",
    "prob = m.predict_proba(xtest)[:,1]  # all rows and 2nd column (= positive class)\n",
    "fpr, tpr, threshold = roc_curve(ytest, prob)\n",
    " # roc_curve takes observed labels with predicted prob and returns fpr,tpr,thresholds for each tpr & fpr\n",
    "\n",
    "area = auc(fpr, tpr)  # area under the ROC curve\n",
    "print('Out-of-sample AUC: %0.4f' % auc(fpr, tpr))  # '%0.4f' %: display 4 digit"
   ]
  },
  {
   "cell_type": "code",
   "execution_count": 19,
   "metadata": {
    "id": "Xwx6nlX3Eb6b",
    "outputId": "54378680-6b1a-4ec2-ec28-fa0ed2356e3d",
    "tags": []
   },
   "outputs": [
    {
     "data": {
      "text/plain": [
       "<matplotlib.legend.Legend at 0x104291190>"
      ]
     },
     "execution_count": 19,
     "metadata": {},
     "output_type": "execute_result"
    },
    {
     "data": {
      "image/png": "[encoded data removed]",
      "text/plain": [
       "<Figure size 640x480 with 1 Axes>"
      ]
     },
     "metadata": {},
     "output_type": "display_data"
    }
   ],
   "source": [
    "# Disply ROC curve\n",
    "\n",
    "plt.plot(fpr, tpr, label=area, marker='*')\n",
    "# plt.plot(fpr, tpr, label=('AUC = ', area))\n",
    "# plt.plot(fpr, tpr, label='AUC = %0.4f' % area)  # 0.4f=4 digits after decimal\n",
    "plt.plot([0, 1], [0, 1])  # Display straight line\n",
    "plt.grid()\n",
    "plt.xlabel('False Positive Rate (=1-Specificity)')\n",
    "plt.ylabel('True Positive Rate (=Sensitiviey)')\n",
    "plt.title('ROC Curve')\n",
    "plt.legend(loc=\"lower right\")"
   ]
  },
  {
   "cell_type": "markdown",
   "metadata": {
    "id": "Gk6lXAauEb6b"
   },
   "source": [
    "### (Optional) 7. What is the optimal decision threshold (probability) that maximizes (TPR-FPR)?"
   ]
  },
  {
   "cell_type": "code",
   "execution_count": null,
   "metadata": {
    "id": "myLshPY_Eb6c",
    "outputId": "a63627a4-59cd-4a72-f6fe-f440f617c59d"
   },
   "outputs": [],
   "source": [
    "# Obtain the optimal decision threshold \n",
    "\n",
    "best_thresh = threshold[np.argmax(tpr - fpr)]\n",
    "best_thresh\n",
    " # np.argmax: Returns index of maximum value\n",
    " # threshold(index): Returns the threshold value corresponding to the index"
   ]
  },
  {
   "cell_type": "code",
   "execution_count": null,
   "metadata": {
    "id": "H9U8lMPREb6c",
    "outputId": "2b39f0d9-4fe6-48e6-fcc0-ca1f530a87da"
   },
   "outputs": [],
   "source": [
    "print(max(tpr - fpr))  # maximum of (TPR-FPR)\n",
    "np.argmax(tpr - fpr)  # Index of maximum of (TPR-FPR)"
   ]
  },
  {
   "cell_type": "markdown",
   "metadata": {
    "id": "e9mvEj66Eb6c"
   },
   "source": [
    "### (Optional) 8. Report model accuracy, Confusion matrix, Precision, Recall, and F1 score on test data using the optimal threshold. Discuss differences in results based on the two thresholds (default vs. optimal)."
   ]
  },
  {
   "cell_type": "code",
   "execution_count": null,
   "metadata": {
    "id": "U3SEoeuuEb6d",
    "outputId": "19f61a5d-503a-45a5-b50f-cb4dfed6df32"
   },
   "outputs": [],
   "source": [
    "# Predict y using the optimal threshold and obtain scores\n",
    " # Set predicted y=1 if predicted probability exceeds the optimal threshold\n",
    "\n",
    "pred1 = (prob >= best_thresh).astype('int')\n",
    "pred1[0:5]  # first 5 values\n",
    " # pred1=1 if prob>=best_thresh, 0 otherwise\n",
    " # astype('int'): convert Boolean to integer"
   ]
  },
  {
   "cell_type": "code",
   "execution_count": null,
   "metadata": {
    "id": "eHai1El7Eb6d",
    "outputId": "c3b11985-92ec-4855-cd10-c7f33cf913a3"
   },
   "outputs": [],
   "source": [
    "# Obtain confusion matrix\n",
    "\n",
    "metrics.confusion_matrix(ytest, pred1)"
   ]
  },
  {
   "cell_type": "markdown",
   "metadata": {
    "id": "GL2UF7UOEb6d"
   },
   "source": [
    "|          | Predicted 0   | Predicted 1 |\n",
    "|----------|:-------------:|------------:|\n",
    "| Actual 0 |       TN      |      FP     |\n",
    "| Actual 1 |       FN      |      TP     |"
   ]
  },
  {
   "cell_type": "code",
   "execution_count": null,
   "metadata": {
    "id": "xrEJqd1IEb6d",
    "outputId": "d1eb9fdf-0680-430c-b38d-fe86842664cd"
   },
   "outputs": [],
   "source": [
    "# Obtain accuracy, precision, recall, F1\n",
    "\n",
    "print('Accuracy',  metrics.accuracy_score(ytest, pred1))\n",
    "print('Precision', metrics.precision_score(ytest, pred1))\n",
    "print('Recall',    metrics.recall_score(ytest, pred1))\n",
    "print('F1 Score',  metrics.f1_score(ytest, pred1))"
   ]
  },
  {
   "cell_type": "markdown",
   "metadata": {
    "id": "ZyQrU5ymEb6e"
   },
   "source": [
    "### 9. Run the following logit model on training data. Draw ROC curve with AUC on test data from M1 and M2.\n",
    "- **(M2) Buy = β0 + β1 Male + β2 Buyamt + β3 Freq + β4 Lastbuy + β5 Firstbuy + e**"
   ]
  },
  {
   "cell_type": "code",
   "execution_count": 20,
   "metadata": {
    "id": "t2R2_daAEb6e",
    "scrolled": true,
    "tags": []
   },
   "outputs": [
    {
     "data": {
      "text/html": [
       "<div>\n",
       "<style scoped>\n",
       "    .dataframe tbody tr th:only-of-type {\n",
       "        vertical-align: middle;\n",
       "    }\n",
       "\n",
       "    .dataframe tbody tr th {\n",
       "        vertical-align: top;\n",
       "    }\n",
       "\n",
       "    .dataframe thead th {\n",
       "        text-align: right;\n",
       "    }\n",
       "</style>\n",
       "<table border=\"1\" class=\"dataframe\">\n",
       "  <thead>\n",
       "    <tr style=\"text-align: right;\">\n",
       "      <th></th>\n",
       "      <th>male</th>\n",
       "      <th>buyamt</th>\n",
       "      <th>freq</th>\n",
       "      <th>lastbuy</th>\n",
       "      <th>firstbuy</th>\n",
       "    </tr>\n",
       "  </thead>\n",
       "  <tbody>\n",
       "    <tr>\n",
       "      <th>0</th>\n",
       "      <td>1</td>\n",
       "      <td>123</td>\n",
       "      <td>12</td>\n",
       "      <td>1</td>\n",
       "      <td>12</td>\n",
       "    </tr>\n",
       "    <tr>\n",
       "      <th>1</th>\n",
       "      <td>1</td>\n",
       "      <td>294</td>\n",
       "      <td>6</td>\n",
       "      <td>2</td>\n",
       "      <td>8</td>\n",
       "    </tr>\n",
       "    <tr>\n",
       "      <th>2</th>\n",
       "      <td>1</td>\n",
       "      <td>138</td>\n",
       "      <td>14</td>\n",
       "      <td>9</td>\n",
       "      <td>38</td>\n",
       "    </tr>\n",
       "    <tr>\n",
       "      <th>3</th>\n",
       "      <td>1</td>\n",
       "      <td>228</td>\n",
       "      <td>2</td>\n",
       "      <td>1</td>\n",
       "      <td>2</td>\n",
       "    </tr>\n",
       "    <tr>\n",
       "      <th>4</th>\n",
       "      <td>1</td>\n",
       "      <td>102</td>\n",
       "      <td>22</td>\n",
       "      <td>2</td>\n",
       "      <td>24</td>\n",
       "    </tr>\n",
       "    <tr>\n",
       "      <th>...</th>\n",
       "      <td>...</td>\n",
       "      <td>...</td>\n",
       "      <td>...</td>\n",
       "      <td>...</td>\n",
       "      <td>...</td>\n",
       "    </tr>\n",
       "    <tr>\n",
       "      <th>3495</th>\n",
       "      <td>0</td>\n",
       "      <td>41</td>\n",
       "      <td>16</td>\n",
       "      <td>1</td>\n",
       "      <td>16</td>\n",
       "    </tr>\n",
       "    <tr>\n",
       "      <th>3496</th>\n",
       "      <td>1</td>\n",
       "      <td>65</td>\n",
       "      <td>26</td>\n",
       "      <td>3</td>\n",
       "      <td>42</td>\n",
       "    </tr>\n",
       "    <tr>\n",
       "      <th>3497</th>\n",
       "      <td>0</td>\n",
       "      <td>277</td>\n",
       "      <td>16</td>\n",
       "      <td>1</td>\n",
       "      <td>16</td>\n",
       "    </tr>\n",
       "    <tr>\n",
       "      <th>3498</th>\n",
       "      <td>0</td>\n",
       "      <td>170</td>\n",
       "      <td>16</td>\n",
       "      <td>2</td>\n",
       "      <td>22</td>\n",
       "    </tr>\n",
       "    <tr>\n",
       "      <th>3499</th>\n",
       "      <td>1</td>\n",
       "      <td>175</td>\n",
       "      <td>14</td>\n",
       "      <td>1</td>\n",
       "      <td>14</td>\n",
       "    </tr>\n",
       "  </tbody>\n",
       "</table>\n",
       "<p>3500 rows × 5 columns</p>\n",
       "</div>"
      ],
      "text/plain": [
       "      male  buyamt  freq  lastbuy  firstbuy\n",
       "0        1     123    12        1        12\n",
       "1        1     294     6        2         8\n",
       "2        1     138    14        9        38\n",
       "3        1     228     2        1         2\n",
       "4        1     102    22        2        24\n",
       "...    ...     ...   ...      ...       ...\n",
       "3495     0      41    16        1        16\n",
       "3496     1      65    26        3        42\n",
       "3497     0     277    16        1        16\n",
       "3498     0     170    16        2        22\n",
       "3499     1     175    14        1        14\n",
       "\n",
       "[3500 rows x 5 columns]"
      ]
     },
     "execution_count": 20,
     "metadata": {},
     "output_type": "execute_result"
    }
   ],
   "source": [
    "# Define x for M2. \n",
    "\n",
    "x2=df.iloc[:, 2:7]\n",
    "x2"
   ]
  },
  {
   "cell_type": "code",
   "execution_count": 21,
   "metadata": {
    "id": "t2R2_daAEb6e",
    "scrolled": true,
    "tags": []
   },
   "outputs": [],
   "source": [
    "# Divide data into training and test data. Run logistic regression training data.\n",
    "\n",
    "xtrain2, xtest2, ytrain, ytest=train_test_split(x2, y)\n",
    "m2 = LogisticRegression(max_iter=300).fit(xtrain2, ytrain)"
   ]
  },
  {
   "cell_type": "code",
   "execution_count": 22,
   "metadata": {
    "id": "Ygsrs3eQEb6e",
    "outputId": "dfe7733e-200c-4cc7-dbbc-6ddcf95b19c4",
    "tags": []
   },
   "outputs": [
    {
     "name": "stdout",
     "output_type": "stream",
     "text": [
      "Out-of-sample AUC: 0.7588692256563643\n"
     ]
    }
   ],
   "source": [
    "# Obtain predictions for positive class, fpr, tpr, decisin threshold, AUC\n",
    "\n",
    "prob2 = m2.predict_proba(xtest2)[:,1]  # all rows and 2nd column\n",
    " # column 1,2 of prob: probability of negative and positive class\n",
    "fpr2, tpr2, threshold2 = roc_curve(ytest, prob2)\n",
    " # roc_curve takes observed labels with predicted prob and returns fpr,tpr,thresholds for each tpr & fpr\n",
    "area2 = auc(fpr2, tpr2)\n",
    "print('Out-of-sample AUC:', area2)"
   ]
  },
  {
   "cell_type": "code",
   "execution_count": 23,
   "metadata": {
    "id": "7B6G9YXoEb6e",
    "outputId": "748e7a05-2021-4e37-ae14-a7425ccc476f",
    "tags": []
   },
   "outputs": [
    {
     "data": {
      "text/plain": [
       "<matplotlib.legend.Legend at 0x13ed7ced0>"
      ]
     },
     "execution_count": 23,
     "metadata": {},
     "output_type": "execute_result"
    },
    {
     "data": {
      "image/png": "[encoded data removed]",
      "text/plain": [
       "<Figure size 640x480 with 1 Axes>"
      ]
     },
     "metadata": {},
     "output_type": "display_data"
    }
   ],
   "source": [
    "# Disply ROC curve for both M1, M2\n",
    "\n",
    "plt.plot(fpr, tpr, label=('AUC M1', area))\n",
    "plt.plot(fpr2, tpr2, label=('AUC M2', area2))\n",
    "plt.plot([0, 1], [0, 1])  # Display straight line\n",
    "plt.grid()\n",
    "plt.xlabel('False Positive Rate (=1-Specificity)')\n",
    "plt.ylabel('True Positive Rate (=Sensitiviey)')\n",
    "plt.title('ROC Curve')\n",
    "plt.legend(loc=\"lower right\")"
   ]
  },
  {
   "cell_type": "code",
   "execution_count": null,
   "metadata": {
    "id": "JZIXZ79AEb6e"
   },
   "outputs": [],
   "source": []
  }
 ],
 "metadata": {
  "colab": {
   "provenance": []
  },
  "kernelspec": {
   "display_name": "Python 3 (ipykernel)",
   "language": "python",
   "name": "python3"
  },
  "language_info": {
   "codemirror_mode": {
    "name": "ipython",
    "version": 3
   },
   "file_extension": ".py",
   "mimetype": "text/x-python",
   "name": "python",
   "nbconvert_exporter": "python",
   "pygments_lexer": "ipython3",
   "version": "3.11.3"
  }
 },
 "nbformat": 4,
 "nbformat_minor": 4
}
