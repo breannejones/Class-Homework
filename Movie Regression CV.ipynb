{
 "cells": [
  {
   "cell_type": "markdown",
   "metadata": {
    "id": "kgaC5PH2jJ74"
   },
   "source": [
    "# Model evaluation: Cross validation\n",
    "## Use “Movie.csv”"
   ]
  },
  {
   "cell_type": "code",
   "execution_count": 1,
   "metadata": {
    "id": "Eqj-APm9jJ77"
   },
   "outputs": [],
   "source": [
    "import pandas as pd\n",
    "from sklearn.linear_model import LinearRegression\n",
    "from sklearn import model_selection\n",
    "from sklearn.model_selection import KFold"
   ]
  },
  {
   "cell_type": "markdown",
   "metadata": {
    "id": "zMAPF-1tjJ77"
   },
   "source": [
    "### 1. Run 5-fold cross validations for the following two OLS models. Calculate MSEs, MAEs, and R-squares for the two models  (Change the unit of Revenue to \\\\$ million)\n",
    "\n",
    "- **M1: Rev = b0 + b1 Ad + b2 Budget + b3 Rating + b4 Avgscreen + b5 Sequel + e**\n",
    "- **M2: Rev = b0 + b1 Budget + b2 Rating + b3 Avgscreen + b4 Sequel + e**"
   ]
  },
  {
   "cell_type": "code",
   "execution_count": 2,
   "metadata": {
    "id": "VMpzTtcQjJ78",
    "outputId": "a55c2db8-7e22-4360-d3c7-046328e03ed7"
   },
   "outputs": [
    {
     "data": {
      "text/html": [
       "<div>\n",
       "<style scoped>\n",
       "    .dataframe tbody tr th:only-of-type {\n",
       "        vertical-align: middle;\n",
       "    }\n",
       "\n",
       "    .dataframe tbody tr th {\n",
       "        vertical-align: top;\n",
       "    }\n",
       "\n",
       "    .dataframe thead th {\n",
       "        text-align: right;\n",
       "    }\n",
       "</style>\n",
       "<table border=\"1\" class=\"dataframe\">\n",
       "  <thead>\n",
       "    <tr style=\"text-align: right;\">\n",
       "      <th></th>\n",
       "      <th>title</th>\n",
       "      <th>open</th>\n",
       "      <th>rev</th>\n",
       "      <th>sequel</th>\n",
       "      <th>avgscreen</th>\n",
       "      <th>mpaa</th>\n",
       "      <th>budget</th>\n",
       "      <th>rating</th>\n",
       "      <th>ad</th>\n",
       "      <th>genre</th>\n",
       "      <th>studio</th>\n",
       "    </tr>\n",
       "  </thead>\n",
       "  <tbody>\n",
       "    <tr>\n",
       "      <th>0</th>\n",
       "      <td>10,000 b.c.</td>\n",
       "      <td>07Mar2008</td>\n",
       "      <td>94784201</td>\n",
       "      <td>0</td>\n",
       "      <td>1329</td>\n",
       "      <td>PG-13</td>\n",
       "      <td>105000000</td>\n",
       "      <td>4.9</td>\n",
       "      <td>36000000.0</td>\n",
       "      <td>PERIOD</td>\n",
       "      <td>WB</td>\n",
       "    </tr>\n",
       "    <tr>\n",
       "      <th>1</th>\n",
       "      <td>12 rounds</td>\n",
       "      <td>27Mar2009</td>\n",
       "      <td>12234694</td>\n",
       "      <td>0</td>\n",
       "      <td>600</td>\n",
       "      <td>PG-13</td>\n",
       "      <td>22000000</td>\n",
       "      <td>5.5</td>\n",
       "      <td>8180700.0</td>\n",
       "      <td>ACTION</td>\n",
       "      <td>FOX</td>\n",
       "    </tr>\n",
       "    <tr>\n",
       "      <th>2</th>\n",
       "      <td>12 years a slave</td>\n",
       "      <td>08Nov2013</td>\n",
       "      <td>56671993</td>\n",
       "      <td>0</td>\n",
       "      <td>554</td>\n",
       "      <td>R</td>\n",
       "      <td>20000000</td>\n",
       "      <td>8.1</td>\n",
       "      <td>14281400.0</td>\n",
       "      <td>DRAMA</td>\n",
       "      <td>FoxS</td>\n",
       "    </tr>\n",
       "    <tr>\n",
       "      <th>3</th>\n",
       "      <td>127 hours</td>\n",
       "      <td>28Jan2011</td>\n",
       "      <td>18335230</td>\n",
       "      <td>0</td>\n",
       "      <td>216</td>\n",
       "      <td>R</td>\n",
       "      <td>18000000</td>\n",
       "      <td>7.7</td>\n",
       "      <td>12000000.0</td>\n",
       "      <td>DRAMA</td>\n",
       "      <td>FOXS</td>\n",
       "    </tr>\n",
       "    <tr>\n",
       "      <th>4</th>\n",
       "      <td>1408</td>\n",
       "      <td>22Jun2007</td>\n",
       "      <td>71985628</td>\n",
       "      <td>0</td>\n",
       "      <td>877</td>\n",
       "      <td>PG-13</td>\n",
       "      <td>25000000</td>\n",
       "      <td>6.9</td>\n",
       "      <td>22900000.0</td>\n",
       "      <td>HORROR</td>\n",
       "      <td>MGM</td>\n",
       "    </tr>\n",
       "  </tbody>\n",
       "</table>\n",
       "</div>"
      ],
      "text/plain": [
       "              title       open       rev  sequel  avgscreen   mpaa     budget  \\\n",
       "0       10,000 b.c.  07Mar2008  94784201       0       1329  PG-13  105000000   \n",
       "1         12 rounds  27Mar2009  12234694       0        600  PG-13   22000000   \n",
       "2  12 years a slave  08Nov2013  56671993       0        554      R   20000000   \n",
       "3         127 hours  28Jan2011  18335230       0        216      R   18000000   \n",
       "4              1408  22Jun2007  71985628       0        877  PG-13   25000000   \n",
       "\n",
       "   rating          ad   genre studio  \n",
       "0     4.9  36000000.0  PERIOD     WB  \n",
       "1     5.5   8180700.0  ACTION    FOX  \n",
       "2     8.1  14281400.0   DRAMA   FoxS  \n",
       "3     7.7  12000000.0   DRAMA   FOXS  \n",
       "4     6.9  22900000.0  HORROR    MGM  "
      ]
     },
     "execution_count": 2,
     "metadata": {},
     "output_type": "execute_result"
    }
   ],
   "source": [
    "# Read data\n",
    "\n",
    "df = pd.read_csv(\"Movie.csv\")\n",
    "df.head()"
   ]
  },
  {
   "cell_type": "markdown",
   "metadata": {
    "id": "GX6OkC7qjRFx"
   },
   "source": [
    "- `pd.read_csv(\"Movie.csv\")` reads data from a CSV (Comma-Separated Values) file named \"Movie.csv\" and loads it into a pandas DataFrame."
   ]
  },
  {
   "cell_type": "code",
   "execution_count": 3,
   "metadata": {
    "id": "TCxv5lbHjJ78",
    "outputId": "d1f58eb5-2afc-4bf2-db98-07e97057430a"
   },
   "outputs": [
    {
     "data": {
      "text/html": [
       "<div>\n",
       "<style scoped>\n",
       "    .dataframe tbody tr th:only-of-type {\n",
       "        vertical-align: middle;\n",
       "    }\n",
       "\n",
       "    .dataframe tbody tr th {\n",
       "        vertical-align: top;\n",
       "    }\n",
       "\n",
       "    .dataframe thead th {\n",
       "        text-align: right;\n",
       "    }\n",
       "</style>\n",
       "<table border=\"1\" class=\"dataframe\">\n",
       "  <thead>\n",
       "    <tr style=\"text-align: right;\">\n",
       "      <th></th>\n",
       "      <th>title</th>\n",
       "      <th>open</th>\n",
       "      <th>rev</th>\n",
       "      <th>sequel</th>\n",
       "      <th>avgscreen</th>\n",
       "      <th>mpaa</th>\n",
       "      <th>budget</th>\n",
       "      <th>rating</th>\n",
       "      <th>ad</th>\n",
       "      <th>genre</th>\n",
       "      <th>studio</th>\n",
       "    </tr>\n",
       "  </thead>\n",
       "  <tbody>\n",
       "    <tr>\n",
       "      <th>0</th>\n",
       "      <td>10,000 b.c.</td>\n",
       "      <td>07Mar2008</td>\n",
       "      <td>94.784201</td>\n",
       "      <td>0</td>\n",
       "      <td>1329</td>\n",
       "      <td>PG-13</td>\n",
       "      <td>105000000</td>\n",
       "      <td>4.9</td>\n",
       "      <td>36000000.0</td>\n",
       "      <td>PERIOD</td>\n",
       "      <td>WB</td>\n",
       "    </tr>\n",
       "    <tr>\n",
       "      <th>1</th>\n",
       "      <td>12 rounds</td>\n",
       "      <td>27Mar2009</td>\n",
       "      <td>12.234694</td>\n",
       "      <td>0</td>\n",
       "      <td>600</td>\n",
       "      <td>PG-13</td>\n",
       "      <td>22000000</td>\n",
       "      <td>5.5</td>\n",
       "      <td>8180700.0</td>\n",
       "      <td>ACTION</td>\n",
       "      <td>FOX</td>\n",
       "    </tr>\n",
       "    <tr>\n",
       "      <th>2</th>\n",
       "      <td>12 years a slave</td>\n",
       "      <td>08Nov2013</td>\n",
       "      <td>56.671993</td>\n",
       "      <td>0</td>\n",
       "      <td>554</td>\n",
       "      <td>R</td>\n",
       "      <td>20000000</td>\n",
       "      <td>8.1</td>\n",
       "      <td>14281400.0</td>\n",
       "      <td>DRAMA</td>\n",
       "      <td>FoxS</td>\n",
       "    </tr>\n",
       "    <tr>\n",
       "      <th>3</th>\n",
       "      <td>127 hours</td>\n",
       "      <td>28Jan2011</td>\n",
       "      <td>18.335230</td>\n",
       "      <td>0</td>\n",
       "      <td>216</td>\n",
       "      <td>R</td>\n",
       "      <td>18000000</td>\n",
       "      <td>7.7</td>\n",
       "      <td>12000000.0</td>\n",
       "      <td>DRAMA</td>\n",
       "      <td>FOXS</td>\n",
       "    </tr>\n",
       "    <tr>\n",
       "      <th>4</th>\n",
       "      <td>1408</td>\n",
       "      <td>22Jun2007</td>\n",
       "      <td>71.985628</td>\n",
       "      <td>0</td>\n",
       "      <td>877</td>\n",
       "      <td>PG-13</td>\n",
       "      <td>25000000</td>\n",
       "      <td>6.9</td>\n",
       "      <td>22900000.0</td>\n",
       "      <td>HORROR</td>\n",
       "      <td>MGM</td>\n",
       "    </tr>\n",
       "  </tbody>\n",
       "</table>\n",
       "</div>"
      ],
      "text/plain": [
       "              title       open        rev  sequel  avgscreen   mpaa  \\\n",
       "0       10,000 b.c.  07Mar2008  94.784201       0       1329  PG-13   \n",
       "1         12 rounds  27Mar2009  12.234694       0        600  PG-13   \n",
       "2  12 years a slave  08Nov2013  56.671993       0        554      R   \n",
       "3         127 hours  28Jan2011  18.335230       0        216      R   \n",
       "4              1408  22Jun2007  71.985628       0        877  PG-13   \n",
       "\n",
       "      budget  rating          ad   genre studio  \n",
       "0  105000000     4.9  36000000.0  PERIOD     WB  \n",
       "1   22000000     5.5   8180700.0  ACTION    FOX  \n",
       "2   20000000     8.1  14281400.0   DRAMA   FoxS  \n",
       "3   18000000     7.7  12000000.0   DRAMA   FOXS  \n",
       "4   25000000     6.9  22900000.0  HORROR    MGM  "
      ]
     },
     "execution_count": 3,
     "metadata": {},
     "output_type": "execute_result"
    }
   ],
   "source": [
    "# Change the unit of Revenue to $ million\n",
    "\n",
    "df['rev'] = df.rev/1000000  # Change Revenue to $ million unit\n",
    "df.head()"
   ]
  },
  {
   "cell_type": "markdown",
   "metadata": {
    "id": "cqFAhDxNjaN9"
   },
   "source": [
    "- `df.rev`/1000000`: Divides each value in the 'rev' column by one million.\n",
    "- `df['rev']`: The result of the division is assigned back to the 'rev' column in the DataFrame."
   ]
  },
  {
   "cell_type": "code",
   "execution_count": 4,
   "metadata": {
    "id": "-o5r8I0DjJ78"
   },
   "outputs": [],
   "source": [
    "#  Define linear regression and a 5-fold CV\n",
    "\n",
    "m = LinearRegression()\n",
    "cv5 = model_selection.KFold(n_splits=5) "
   ]
  },
  {
   "cell_type": "markdown",
   "metadata": {
    "id": "5X3pBbFvj0T7"
   },
   "source": [
    "- `m = LinearRegression()`: This line initializes a linear regression model.\n",
    "- `cv5 = model_selection.KFold(n_splits=5)`: This line creates a 5-fold cross-validation scheme. \n",
    "    - This can be omitted for 5-fold CV (default)"
   ]
  },
  {
   "cell_type": "code",
   "execution_count": 5,
   "metadata": {
    "id": "F-hJHHG4jJ79"
   },
   "outputs": [],
   "source": [
    "# Define x, y for M1\n",
    "\n",
    "y = df.rev\n",
    "x1 = df[['sequel', 'avgscreen', 'budget', 'rating', 'ad']]"
   ]
  },
  {
   "cell_type": "markdown",
   "metadata": {
    "id": "QZElF1FDkKd-"
   },
   "source": [
    "- `y = df.rev`: y is the dependent variable or target variable. In this case, it is set to the 'rev' column of the DataFrame df.\n",
    "- `x1 = df[['sequel', 'avgscreen', 'budget', 'rating', 'ad']]`: x1 is a DataFrame that includes a set of independent variables or features that you want to use in your regression analysis."
   ]
  },
  {
   "cell_type": "code",
   "execution_count": 6,
   "metadata": {
    "id": "oHfMRTVPjJ79"
   },
   "outputs": [],
   "source": [
    "# Obtain MSE, MAE, R2 for M1\n",
    "\n",
    "mse1 = -(model_selection.cross_val_score(m, x1, y, cv=cv5, scoring='neg_mean_squared_error'))\n",
    " # 'neg_mean_squared_error': negative value of MSE\n",
    " # cv=cv5 can be omitted for 5-fold (default)\n",
    "mae1 = -(model_selection.cross_val_score(m, x1, y, cv=cv5, scoring='neg_mean_absolute_error'))\n",
    "rsq1 = model_selection.cross_val_score(m, x1, y, cv=cv5, scoring='r2')"
   ]
  },
  {
   "cell_type": "markdown",
   "metadata": {
    "id": "E4C1YPVAkkR2"
   },
   "source": [
    "- `mse1 = -(model_selection.cross_val_score(m, x1, y, cv=cv5, scoring='neg_mean_squared_error'))`: Calculates the Mean Squared Error (MSE) using 5-fold cross-validation for the linear regression model m.\n",
    "    - `model_selection.cross_val_score` performs cross-validation\n",
    "    - `scoring='neg_mean_squared_error'` indicates that it should use MSE as the evaluation metric. The negative sign is used to obtain a positive MSE value.\n",
    "- `mae1 = -(model_selection.cross_val_score(m, x1, y, cv=cv5, scoring='neg_mean_absolute_error'))`: This line calculates the Mean Absolute Error (MAE) using 5-fold cross-validation for the linear regression model m.\n",
    "- `rsq1 = model_selection.cross_val_score(m, x1, y, cv=cv5, scoring='r2')`: This line calculates R-squared using 5-fold cross-validation for the linear regression model m. "
   ]
  },
  {
   "cell_type": "code",
   "execution_count": 7,
   "metadata": {
    "id": "FaoCIDuxjJ79",
    "outputId": "9bd7d4dc-f384-4b55-e971-356c2afc7e17"
   },
   "outputs": [
    {
     "name": "stdout",
     "output_type": "stream",
     "text": [
      "mse1 [3887.66959301 2757.30645036 2797.14349192 4783.4122652  3210.71316873]\n",
      "mae1 [36.99070036 36.25083943 32.87925187 39.46699928 39.07316148]\n",
      "rsq1 [0.49248169 0.63405075 0.47337333 0.52848915 0.53249441]\n"
     ]
    }
   ],
   "source": [
    "# Scores of each run of CV\n",
    "\n",
    "print('mse1', mse1)\n",
    "print('mae1', mae1)\n",
    "print('rsq1', rsq1)"
   ]
  },
  {
   "cell_type": "code",
   "execution_count": 8,
   "metadata": {
    "id": "HxKTn1GPjJ79",
    "outputId": "ee592af8-da10-4c1c-81a7-cb2201794408"
   },
   "outputs": [
    {
     "name": "stdout",
     "output_type": "stream",
     "text": [
      "mse1 3487.248993844189\n",
      "mae1 36.93219048364908\n",
      "r-square1 0.5321778638496653\n"
     ]
    }
   ],
   "source": [
    "# Average scores of all the runs of CV\n",
    "\n",
    "print('mse1', mse1.mean())\n",
    "print('mae1', mae1.mean())\n",
    "print('r-square1', rsq1.mean())"
   ]
  },
  {
   "cell_type": "markdown",
   "metadata": {
    "id": "UWMi0fxzloNs"
   },
   "source": [
    "- `mean()`: This code computes the mean value of the MSE, MAE, and R-squared scores across the different folds of cross-validation."
   ]
  },
  {
   "cell_type": "code",
   "execution_count": 9,
   "metadata": {
    "id": "WzEgTHORjJ79"
   },
   "outputs": [],
   "source": [
    "# Define x for M2\n",
    "\n",
    "x2 = x1.drop('ad', axis=1)\n",
    "# x2 = df[['sequel', 'avgscreen', 'budget', 'rating']]  # Alternative"
   ]
  },
  {
   "cell_type": "markdown",
   "metadata": {
    "id": "cq6C7VYLl49I"
   },
   "source": [
    " - `x2 = x1.drop('ad', axis=1)` is creating a new DataFrame x2 by removing the 'ad' column from the existing DataFrame x1\n",
    " - `axis=1` indicates that you are removing a column."
   ]
  },
  {
   "cell_type": "code",
   "execution_count": 10,
   "metadata": {
    "id": "cnYn2qUyjJ79"
   },
   "outputs": [],
   "source": [
    "# Obtain MSE, MAE, R2 for M2\n",
    "\n",
    "mse2=-(model_selection.cross_val_score(m, x2, y, cv=cv5, scoring='neg_mean_squared_error'))\n",
    "mae2=-(model_selection.cross_val_score(m, x2, y, cv=cv5, scoring='neg_mean_absolute_error'))\n",
    "rsq2=model_selection.cross_val_score(m, x2, y, cv=cv5, scoring='r2')"
   ]
  },
  {
   "cell_type": "code",
   "execution_count": 11,
   "metadata": {
    "id": "27GJ9WYOjJ7-",
    "outputId": "b38378ca-01ae-4792-904c-ffcc03bee25e"
   },
   "outputs": [
    {
     "name": "stdout",
     "output_type": "stream",
     "text": [
      "[3976.36418064 2545.41365857 2841.12102393 4834.44477207 3277.74066427]\n",
      "[37.64107041 35.34183014 32.83597082 40.46607438 39.37165164]\n",
      "[0.480903   0.66217312 0.46509354 0.52345877 0.52273467]\n"
     ]
    }
   ],
   "source": [
    "# scores of each run of CV\n",
    "\n",
    "print(mse2)\n",
    "print(mae2)\n",
    "print(rsq2)"
   ]
  },
  {
   "cell_type": "code",
   "execution_count": 12,
   "metadata": {
    "id": "BS0QBYNzjJ7-",
    "outputId": "91f7f954-baab-4c3e-f84e-74fd27ff6afe"
   },
   "outputs": [
    {
     "name": "stdout",
     "output_type": "stream",
     "text": [
      "mse2 3495.01685989574\n",
      "mae2 37.13131947702719\n",
      "r-square2 0.5308726199800551\n"
     ]
    }
   ],
   "source": [
    "# Average scores of all the runs of CV\n",
    "\n",
    "print('mse2', mse2.mean())\n",
    "print('mae2', mae2.mean())\n",
    "print('r-square2', rsq2.mean())"
   ]
  },
  {
   "cell_type": "markdown",
   "metadata": {
    "id": "y_CAnQRejJ7-"
   },
   "source": [
    "- Model 1 shows better predictive performance than Model 2: Model 1 has lower error measures (MSE, MAE) and higher R-squared"
   ]
  },
  {
   "cell_type": "markdown",
   "metadata": {
    "id": "WqOH-0wojJ7-"
   },
   "source": [
    "### 2. Run Leave-one-out cross validations for the two previous OLS models. Calculate MSEs and MAEs."
   ]
  },
  {
   "cell_type": "code",
   "execution_count": 13,
   "metadata": {
    "id": "FXEdhBo_jJ7-"
   },
   "outputs": [],
   "source": [
    "# Define linear regressin and Leave-one-out cross validation\n",
    "\n",
    "m = LinearRegression()\n",
    "loo = model_selection.LeaveOneOut()"
   ]
  },
  {
   "cell_type": "markdown",
   "metadata": {
    "id": "lNLAmNMUmsEI"
   },
   "source": [
    "- `loo = model_selection.LeaveOneOut()`: This line sets up a Leave-One-Out (LOO) cross-validation scheme using scikit-learn's LeaveOneOut class, which is part of the model_selection module. In LOO cross-validation, for each data point in your dataset, a model is trained on all the other data points except that specific data point."
   ]
  },
  {
   "cell_type": "code",
   "execution_count": 14,
   "metadata": {
    "id": "Bt1qY5DljJ7-"
   },
   "outputs": [
    {
     "name": "stdout",
     "output_type": "stream",
     "text": [
      "mse1 3477.149152965851\n",
      "mae1 36.64109897183518\n"
     ]
    }
   ],
   "source": [
    "#  Obtarin MSE, MAE for M1\n",
    "\n",
    "mse1=-(model_selection.cross_val_score(m, x1, y, cv=loo, scoring='neg_mean_squared_error'))\n",
    "mae1=-(model_selection.cross_val_score(m, x1, y, cv=loo, scoring='neg_mean_absolute_error'))\n",
    "print('mse1', mse1.mean())\n",
    "print('mae1', mae1.mean())"
   ]
  },
  {
   "cell_type": "markdown",
   "metadata": {
    "id": "YrGbAbVhm7so"
   },
   "source": [
    " - cv is used to perform LOO cross-validation on a linear regression model (m) with a given set of independent variables (x1) and target variable (y"
   ]
  },
  {
   "cell_type": "code",
   "execution_count": 15,
   "metadata": {
    "id": "jrGGuDVcjJ7-"
   },
   "outputs": [
    {
     "name": "stdout",
     "output_type": "stream",
     "text": [
      "mse2 3494.6700327413237\n",
      "mae2 36.9558248708298\n"
     ]
    }
   ],
   "source": [
    "#  Obtarin MSE, MAE for M2\n",
    "\n",
    "mse2 = -(model_selection.cross_val_score(m, x2, y, cv=loo, scoring='neg_mean_squared_error'))\n",
    "mae2 = -(model_selection.cross_val_score(m, x2, y, cv=loo, scoring='neg_mean_absolute_error'))\n",
    "print('mse2', mse2.mean())\n",
    "print('mae2', mae2.mean())"
   ]
  },
  {
   "cell_type": "code",
   "execution_count": 16,
   "metadata": {
    "id": "decT6V2yjJ7-",
    "outputId": "92431a33-94a0-4194-8542-4bda64bf1b63"
   },
   "outputs": [
    {
     "name": "stdout",
     "output_type": "stream",
     "text": [
      "mse2 3494.6700327413237\n",
      "mae2 36.9558248708298\n"
     ]
    }
   ],
   "source": [
    "print('mse2', mse2.mean())\n",
    "print('mae2', mae2.mean())"
   ]
  },
  {
   "cell_type": "markdown",
   "metadata": {
    "id": "n6JBnggQjJ7_"
   },
   "source": [
    "- Model 1 shows better predictive performance than Model 2: Model 1 has lower error measures (MSE, MAE)"
   ]
  },
  {
   "cell_type": "code",
   "execution_count": null,
   "metadata": {
    "id": "9m57tp8RjJ7_"
   },
   "outputs": [],
   "source": []
  }
 ],
 "metadata": {
  "colab": {
   "provenance": []
  },
  "kernelspec": {
   "display_name": "Python 3 (ipykernel)",
   "language": "python",
   "name": "python3"
  },
  "language_info": {
   "codemirror_mode": {
    "name": "ipython",
    "version": 3
   },
   "file_extension": ".py",
   "mimetype": "text/x-python",
   "name": "python",
   "nbconvert_exporter": "python",
   "pygments_lexer": "ipython3",
   "version": "3.11.8"
  }
 },
 "nbformat": 4,
 "nbformat_minor": 4
}
